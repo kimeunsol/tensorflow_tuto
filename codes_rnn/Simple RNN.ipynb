{
 "cells": [
  {
   "cell_type": "code",
   "execution_count": 1,
   "metadata": {
    "collapsed": false
   },
   "outputs": [
    {
     "ename": "ImportError",
     "evalue": "libcudart.so.7.5: cannot open shared object file: No such file or directory",
     "output_type": "error",
     "traceback": [
      "\u001b[1;31m---------------------------------------------------------------------------\u001b[0m",
      "\u001b[1;31mImportError\u001b[0m                               Traceback (most recent call last)",
      "\u001b[1;32m<ipython-input-1-70fcc3f61184>\u001b[0m in \u001b[0;36m<module>\u001b[1;34m()\u001b[0m\n\u001b[1;32m----> 1\u001b[1;33m \u001b[1;32mimport\u001b[0m \u001b[0mtensorflow\u001b[0m \u001b[1;32mas\u001b[0m \u001b[0mtf\u001b[0m\u001b[1;33m\u001b[0m\u001b[0m\n\u001b[0m\u001b[0;32m      2\u001b[0m \u001b[1;32mimport\u001b[0m \u001b[0mnumpy\u001b[0m \u001b[1;32mas\u001b[0m \u001b[0mnp\u001b[0m\u001b[1;33m\u001b[0m\u001b[0m\n",
      "\u001b[1;32m/usr/local/lib/python2.7/dist-packages/tensorflow/__init__.py\u001b[0m in \u001b[0;36m<module>\u001b[1;34m()\u001b[0m\n\u001b[0;32m     21\u001b[0m \u001b[1;32mfrom\u001b[0m \u001b[0m__future__\u001b[0m \u001b[1;32mimport\u001b[0m \u001b[0mprint_function\u001b[0m\u001b[1;33m\u001b[0m\u001b[0m\n\u001b[0;32m     22\u001b[0m \u001b[1;33m\u001b[0m\u001b[0m\n\u001b[1;32m---> 23\u001b[1;33m \u001b[1;32mfrom\u001b[0m \u001b[0mtensorflow\u001b[0m\u001b[1;33m.\u001b[0m\u001b[0mpython\u001b[0m \u001b[1;32mimport\u001b[0m \u001b[1;33m*\u001b[0m\u001b[1;33m\u001b[0m\u001b[0m\n\u001b[0m",
      "\u001b[1;32m/usr/local/lib/python2.7/dist-packages/tensorflow/python/__init__.py\u001b[0m in \u001b[0;36m<module>\u001b[1;34m()\u001b[0m\n\u001b[0;32m     46\u001b[0m \u001b[0m_default_dlopen_flags\u001b[0m \u001b[1;33m=\u001b[0m \u001b[0msys\u001b[0m\u001b[1;33m.\u001b[0m\u001b[0mgetdlopenflags\u001b[0m\u001b[1;33m(\u001b[0m\u001b[1;33m)\u001b[0m\u001b[1;33m\u001b[0m\u001b[0m\n\u001b[0;32m     47\u001b[0m \u001b[0msys\u001b[0m\u001b[1;33m.\u001b[0m\u001b[0msetdlopenflags\u001b[0m\u001b[1;33m(\u001b[0m\u001b[0m_default_dlopen_flags\u001b[0m \u001b[1;33m|\u001b[0m \u001b[0mctypes\u001b[0m\u001b[1;33m.\u001b[0m\u001b[0mRTLD_GLOBAL\u001b[0m\u001b[1;33m)\u001b[0m\u001b[1;33m\u001b[0m\u001b[0m\n\u001b[1;32m---> 48\u001b[1;33m \u001b[1;32mfrom\u001b[0m \u001b[0mtensorflow\u001b[0m\u001b[1;33m.\u001b[0m\u001b[0mpython\u001b[0m \u001b[1;32mimport\u001b[0m \u001b[0mpywrap_tensorflow\u001b[0m\u001b[1;33m\u001b[0m\u001b[0m\n\u001b[0m\u001b[0;32m     49\u001b[0m \u001b[0msys\u001b[0m\u001b[1;33m.\u001b[0m\u001b[0msetdlopenflags\u001b[0m\u001b[1;33m(\u001b[0m\u001b[0m_default_dlopen_flags\u001b[0m\u001b[1;33m)\u001b[0m\u001b[1;33m\u001b[0m\u001b[0m\n\u001b[0;32m     50\u001b[0m \u001b[1;33m\u001b[0m\u001b[0m\n",
      "\u001b[1;32m/usr/local/lib/python2.7/dist-packages/tensorflow/python/pywrap_tensorflow.py\u001b[0m in \u001b[0;36m<module>\u001b[1;34m()\u001b[0m\n\u001b[0;32m     26\u001b[0m                 \u001b[0mfp\u001b[0m\u001b[1;33m.\u001b[0m\u001b[0mclose\u001b[0m\u001b[1;33m(\u001b[0m\u001b[1;33m)\u001b[0m\u001b[1;33m\u001b[0m\u001b[0m\n\u001b[0;32m     27\u001b[0m             \u001b[1;32mreturn\u001b[0m \u001b[0m_mod\u001b[0m\u001b[1;33m\u001b[0m\u001b[0m\n\u001b[1;32m---> 28\u001b[1;33m     \u001b[0m_pywrap_tensorflow\u001b[0m \u001b[1;33m=\u001b[0m \u001b[0mswig_import_helper\u001b[0m\u001b[1;33m(\u001b[0m\u001b[1;33m)\u001b[0m\u001b[1;33m\u001b[0m\u001b[0m\n\u001b[0m\u001b[0;32m     29\u001b[0m     \u001b[1;32mdel\u001b[0m \u001b[0mswig_import_helper\u001b[0m\u001b[1;33m\u001b[0m\u001b[0m\n\u001b[0;32m     30\u001b[0m \u001b[1;32melse\u001b[0m\u001b[1;33m:\u001b[0m\u001b[1;33m\u001b[0m\u001b[0m\n",
      "\u001b[1;32m/usr/local/lib/python2.7/dist-packages/tensorflow/python/pywrap_tensorflow.py\u001b[0m in \u001b[0;36mswig_import_helper\u001b[1;34m()\u001b[0m\n\u001b[0;32m     22\u001b[0m         \u001b[1;32mif\u001b[0m \u001b[0mfp\u001b[0m \u001b[1;32mis\u001b[0m \u001b[1;32mnot\u001b[0m \u001b[0mNone\u001b[0m\u001b[1;33m:\u001b[0m\u001b[1;33m\u001b[0m\u001b[0m\n\u001b[0;32m     23\u001b[0m             \u001b[1;32mtry\u001b[0m\u001b[1;33m:\u001b[0m\u001b[1;33m\u001b[0m\u001b[0m\n\u001b[1;32m---> 24\u001b[1;33m                 \u001b[0m_mod\u001b[0m \u001b[1;33m=\u001b[0m \u001b[0mimp\u001b[0m\u001b[1;33m.\u001b[0m\u001b[0mload_module\u001b[0m\u001b[1;33m(\u001b[0m\u001b[1;34m'_pywrap_tensorflow'\u001b[0m\u001b[1;33m,\u001b[0m \u001b[0mfp\u001b[0m\u001b[1;33m,\u001b[0m \u001b[0mpathname\u001b[0m\u001b[1;33m,\u001b[0m \u001b[0mdescription\u001b[0m\u001b[1;33m)\u001b[0m\u001b[1;33m\u001b[0m\u001b[0m\n\u001b[0m\u001b[0;32m     25\u001b[0m             \u001b[1;32mfinally\u001b[0m\u001b[1;33m:\u001b[0m\u001b[1;33m\u001b[0m\u001b[0m\n\u001b[0;32m     26\u001b[0m                 \u001b[0mfp\u001b[0m\u001b[1;33m.\u001b[0m\u001b[0mclose\u001b[0m\u001b[1;33m(\u001b[0m\u001b[1;33m)\u001b[0m\u001b[1;33m\u001b[0m\u001b[0m\n",
      "\u001b[1;31mImportError\u001b[0m: libcudart.so.7.5: cannot open shared object file: No such file or directory"
     ]
    }
   ],
   "source": [
    "import tensorflow as tf\n",
    "import numpy as np"
   ]
  },
  {
   "cell_type": "markdown",
   "metadata": {},
   "source": [
    "##데이터 생성"
   ]
  },
  {
   "cell_type": "markdown",
   "metadata": {},
   "source": [
    "2: 데이터 갯수,\n",
    "10: 최대 time length\n",
    "8: 데이터 차원\n",
    "예를 들어, 두 개의 동영상 데이터가 있고,\n",
    "각각의 동영상 데이터는 최대 10개의 이미지를 포함.\n",
    "각각의 이미지는 8차원의 벡터로 표현됨\n",
    "\n",
    "이 때, 두 번째 데이터는 이미지가 6개밖에 없다고 가정하고, 나머지 네 개의 데이터는 제로 패딩\n"
   ]
  },
  {
   "cell_type": "code",
   "execution_count": 2,
   "metadata": {
    "collapsed": true
   },
   "outputs": [],
   "source": [
    "X = np.random.randn(2, 10, 8)"
   ]
  },
  {
   "cell_type": "code",
   "execution_count": 3,
   "metadata": {
    "collapsed": false
   },
   "outputs": [],
   "source": [
    "X[1, 6:] = 0\n",
    "X_lengths = [10, 6]"
   ]
  },
  {
   "cell_type": "markdown",
   "metadata": {},
   "source": [
    "##LSTM Cell 선언"
   ]
  },
  {
   "cell_type": "code",
   "execution_count": 4,
   "metadata": {
    "collapsed": false
   },
   "outputs": [],
   "source": [
    "cell = tf.nn.rnn_cell.LSTMCell(num_units = 64, state_is_tuple=True)"
   ]
  },
  {
   "cell_type": "markdown",
   "metadata": {},
   "source": [
    "##Dynamic_rnn 함수를 이용하여 RNN 정의"
   ]
  },
  {
   "cell_type": "code",
   "execution_count": 8,
   "metadata": {
    "collapsed": false
   },
   "outputs": [
    {
     "ename": "ValueError",
     "evalue": "Variable RNN/LSTMCell/W_0 already exists, disallowed. Did you mean to set reuse=True in VarScope? Originally defined at:\n\n  File \"<ipython-input-5-992b5a9b3ea9>\", line 5, in <module>\n    inputs = X\n  File \"/usr/local/lib/python2.7/dist-packages/IPython/core/interactiveshell.py\", line 3035, in run_code\n    exec(code_obj, self.user_global_ns, self.user_ns)\n  File \"/usr/local/lib/python2.7/dist-packages/IPython/core/interactiveshell.py\", line 2975, in run_ast_nodes\n    if self.run_code(code, result):\n",
     "output_type": "error",
     "traceback": [
      "\u001b[1;31m---------------------------------------------------------------------------\u001b[0m",
      "\u001b[1;31mValueError\u001b[0m                                Traceback (most recent call last)",
      "\u001b[1;32m<ipython-input-8-109a55cd8423>\u001b[0m in \u001b[0;36m<module>\u001b[1;34m()\u001b[0m\n\u001b[0;32m      3\u001b[0m     \u001b[0mdtype\u001b[0m \u001b[1;33m=\u001b[0m \u001b[0mtf\u001b[0m\u001b[1;33m.\u001b[0m\u001b[0mfloat64\u001b[0m\u001b[1;33m,\u001b[0m\u001b[1;33m\u001b[0m\u001b[0m\n\u001b[0;32m      4\u001b[0m     \u001b[0msequence_length\u001b[0m \u001b[1;33m=\u001b[0m \u001b[0mX_lengths\u001b[0m\u001b[1;33m,\u001b[0m \u001b[1;31m#각 데이터의 실제 sequence 길이\u001b[0m\u001b[1;33m\u001b[0m\u001b[0m\n\u001b[1;32m----> 5\u001b[1;33m     \u001b[0minputs\u001b[0m \u001b[1;33m=\u001b[0m \u001b[0mX\u001b[0m \u001b[1;31m#입력\u001b[0m\u001b[1;33m\u001b[0m\u001b[0m\n\u001b[0m\u001b[0;32m      6\u001b[0m )\n",
      "\u001b[1;32m/usr/local/lib/python2.7/dist-packages/tensorflow/python/ops/rnn.pyc\u001b[0m in \u001b[0;36mdynamic_rnn\u001b[1;34m(cell, inputs, sequence_length, initial_state, dtype, parallel_iterations, swap_memory, time_major, scope)\u001b[0m\n\u001b[0;32m    828\u001b[0m         \u001b[0mswap_memory\u001b[0m\u001b[1;33m=\u001b[0m\u001b[0mswap_memory\u001b[0m\u001b[1;33m,\u001b[0m\u001b[1;33m\u001b[0m\u001b[0m\n\u001b[0;32m    829\u001b[0m         \u001b[0msequence_length\u001b[0m\u001b[1;33m=\u001b[0m\u001b[0msequence_length\u001b[0m\u001b[1;33m,\u001b[0m\u001b[1;33m\u001b[0m\u001b[0m\n\u001b[1;32m--> 830\u001b[1;33m         dtype=dtype)\n\u001b[0m\u001b[0;32m    831\u001b[0m \u001b[1;33m\u001b[0m\u001b[0m\n\u001b[0;32m    832\u001b[0m     \u001b[1;31m# Outputs of _dynamic_rnn_loop are always shaped [time, batch, depth].\u001b[0m\u001b[1;33m\u001b[0m\u001b[1;33m\u001b[0m\u001b[0m\n",
      "\u001b[1;32m/usr/local/lib/python2.7/dist-packages/tensorflow/python/ops/rnn.pyc\u001b[0m in \u001b[0;36m_dynamic_rnn_loop\u001b[1;34m(cell, inputs, initial_state, parallel_iterations, swap_memory, sequence_length, dtype)\u001b[0m\n\u001b[0;32m    995\u001b[0m       \u001b[0mloop_vars\u001b[0m\u001b[1;33m=\u001b[0m\u001b[1;33m(\u001b[0m\u001b[0mtime\u001b[0m\u001b[1;33m,\u001b[0m \u001b[0moutput_ta\u001b[0m\u001b[1;33m,\u001b[0m \u001b[0mstate\u001b[0m\u001b[1;33m)\u001b[0m\u001b[1;33m,\u001b[0m\u001b[1;33m\u001b[0m\u001b[0m\n\u001b[0;32m    996\u001b[0m       \u001b[0mparallel_iterations\u001b[0m\u001b[1;33m=\u001b[0m\u001b[0mparallel_iterations\u001b[0m\u001b[1;33m,\u001b[0m\u001b[1;33m\u001b[0m\u001b[0m\n\u001b[1;32m--> 997\u001b[1;33m       swap_memory=swap_memory)\n\u001b[0m\u001b[0;32m    998\u001b[0m \u001b[1;33m\u001b[0m\u001b[0m\n\u001b[0;32m    999\u001b[0m   \u001b[1;31m# Unpack final output if not using output tuples.\u001b[0m\u001b[1;33m\u001b[0m\u001b[1;33m\u001b[0m\u001b[0m\n",
      "\u001b[1;32m/usr/local/lib/python2.7/dist-packages/tensorflow/python/ops/control_flow_ops.pyc\u001b[0m in \u001b[0;36mwhile_loop\u001b[1;34m(cond, body, loop_vars, parallel_iterations, back_prop, swap_memory, name)\u001b[0m\n\u001b[0;32m   1971\u001b[0m \u001b[1;33m\u001b[0m\u001b[0m\n\u001b[0;32m   1972\u001b[0m     \u001b[0mcontext\u001b[0m \u001b[1;33m=\u001b[0m \u001b[0mWhileContext\u001b[0m\u001b[1;33m(\u001b[0m\u001b[0mparallel_iterations\u001b[0m\u001b[1;33m,\u001b[0m \u001b[0mback_prop\u001b[0m\u001b[1;33m,\u001b[0m \u001b[0mswap_memory\u001b[0m\u001b[1;33m,\u001b[0m \u001b[0mname\u001b[0m\u001b[1;33m)\u001b[0m\u001b[1;33m\u001b[0m\u001b[0m\n\u001b[1;32m-> 1973\u001b[1;33m     \u001b[0mresult\u001b[0m \u001b[1;33m=\u001b[0m \u001b[0mcontext\u001b[0m\u001b[1;33m.\u001b[0m\u001b[0mBuildLoop\u001b[0m\u001b[1;33m(\u001b[0m\u001b[0mcond\u001b[0m\u001b[1;33m,\u001b[0m \u001b[0mbody\u001b[0m\u001b[1;33m,\u001b[0m \u001b[0mloop_vars\u001b[0m\u001b[1;33m)\u001b[0m\u001b[1;33m\u001b[0m\u001b[0m\n\u001b[0m\u001b[0;32m   1974\u001b[0m     \u001b[1;32mreturn\u001b[0m \u001b[0mresult\u001b[0m\u001b[1;33m\u001b[0m\u001b[0m\n\u001b[0;32m   1975\u001b[0m \u001b[1;33m\u001b[0m\u001b[0m\n",
      "\u001b[1;32m/usr/local/lib/python2.7/dist-packages/tensorflow/python/ops/control_flow_ops.pyc\u001b[0m in \u001b[0;36mBuildLoop\u001b[1;34m(self, pred, body, loop_vars)\u001b[0m\n\u001b[0;32m   1858\u001b[0m       \u001b[0mself\u001b[0m\u001b[1;33m.\u001b[0m\u001b[0mEnter\u001b[0m\u001b[1;33m(\u001b[0m\u001b[1;33m)\u001b[0m\u001b[1;33m\u001b[0m\u001b[0m\n\u001b[0;32m   1859\u001b[0m       original_body_result, exit_vars = self._BuildLoop(\n\u001b[1;32m-> 1860\u001b[1;33m           pred, body, original_loop_vars, loop_vars)\n\u001b[0m\u001b[0;32m   1861\u001b[0m     \u001b[1;32mfinally\u001b[0m\u001b[1;33m:\u001b[0m\u001b[1;33m\u001b[0m\u001b[0m\n\u001b[0;32m   1862\u001b[0m       \u001b[0mself\u001b[0m\u001b[1;33m.\u001b[0m\u001b[0mExit\u001b[0m\u001b[1;33m(\u001b[0m\u001b[1;33m)\u001b[0m\u001b[1;33m\u001b[0m\u001b[0m\n",
      "\u001b[1;32m/usr/local/lib/python2.7/dist-packages/tensorflow/python/ops/control_flow_ops.pyc\u001b[0m in \u001b[0;36m_BuildLoop\u001b[1;34m(self, pred, body, original_loop_vars, loop_vars)\u001b[0m\n\u001b[0;32m   1808\u001b[0m         \u001b[0mstructure\u001b[0m\u001b[1;33m=\u001b[0m\u001b[0moriginal_loop_vars\u001b[0m\u001b[1;33m,\u001b[0m\u001b[1;33m\u001b[0m\u001b[0m\n\u001b[0;32m   1809\u001b[0m         flat_sequence=vars_for_body_with_tensor_arrays)\n\u001b[1;32m-> 1810\u001b[1;33m     \u001b[0mbody_result\u001b[0m \u001b[1;33m=\u001b[0m \u001b[0mbody\u001b[0m\u001b[1;33m(\u001b[0m\u001b[1;33m*\u001b[0m\u001b[0mpacked_vars_for_body\u001b[0m\u001b[1;33m)\u001b[0m\u001b[1;33m\u001b[0m\u001b[0m\n\u001b[0m\u001b[0;32m   1811\u001b[0m     \u001b[1;32mif\u001b[0m \u001b[1;32mnot\u001b[0m \u001b[0mnest\u001b[0m\u001b[1;33m.\u001b[0m\u001b[0mis_sequence\u001b[0m\u001b[1;33m(\u001b[0m\u001b[0mbody_result\u001b[0m\u001b[1;33m)\u001b[0m\u001b[1;33m:\u001b[0m\u001b[1;33m\u001b[0m\u001b[0m\n\u001b[0;32m   1812\u001b[0m       \u001b[0mbody_result\u001b[0m \u001b[1;33m=\u001b[0m \u001b[1;33m[\u001b[0m\u001b[0mbody_result\u001b[0m\u001b[1;33m]\u001b[0m\u001b[1;33m\u001b[0m\u001b[0m\n",
      "\u001b[1;32m/usr/local/lib/python2.7/dist-packages/tensorflow/python/ops/rnn.pyc\u001b[0m in \u001b[0;36m_time_step\u001b[1;34m(time, output_ta_t, state)\u001b[0m\n\u001b[0;32m    978\u001b[0m           \u001b[0mcall_cell\u001b[0m\u001b[1;33m=\u001b[0m\u001b[0mcall_cell\u001b[0m\u001b[1;33m,\u001b[0m\u001b[1;33m\u001b[0m\u001b[0m\n\u001b[0;32m    979\u001b[0m           \u001b[0mstate_size\u001b[0m\u001b[1;33m=\u001b[0m\u001b[0mstate_size\u001b[0m\u001b[1;33m,\u001b[0m\u001b[1;33m\u001b[0m\u001b[0m\n\u001b[1;32m--> 980\u001b[1;33m           skip_conditionals=True)\n\u001b[0m\u001b[0;32m    981\u001b[0m     \u001b[1;32melse\u001b[0m\u001b[1;33m:\u001b[0m\u001b[1;33m\u001b[0m\u001b[0m\n\u001b[0;32m    982\u001b[0m       \u001b[1;33m(\u001b[0m\u001b[0moutput\u001b[0m\u001b[1;33m,\u001b[0m \u001b[0mnew_state\u001b[0m\u001b[1;33m)\u001b[0m \u001b[1;33m=\u001b[0m \u001b[0mcall_cell\u001b[0m\u001b[1;33m(\u001b[0m\u001b[1;33m)\u001b[0m\u001b[1;33m\u001b[0m\u001b[0m\n",
      "\u001b[1;32m/usr/local/lib/python2.7/dist-packages/tensorflow/python/ops/rnn.pyc\u001b[0m in \u001b[0;36m_rnn_step\u001b[1;34m(time, sequence_length, min_sequence_length, max_sequence_length, zero_output, state, call_cell, state_size, skip_conditionals)\u001b[0m\n\u001b[0;32m    392\u001b[0m     \u001b[1;31m# steps.  This is faster when max_seq_len is equal to the number of unrolls\u001b[0m\u001b[1;33m\u001b[0m\u001b[1;33m\u001b[0m\u001b[0m\n\u001b[0;32m    393\u001b[0m     \u001b[1;31m# (which is typical for dynamic_rnn).\u001b[0m\u001b[1;33m\u001b[0m\u001b[1;33m\u001b[0m\u001b[0m\n\u001b[1;32m--> 394\u001b[1;33m     \u001b[0mnew_output\u001b[0m\u001b[1;33m,\u001b[0m \u001b[0mnew_state\u001b[0m \u001b[1;33m=\u001b[0m \u001b[0mcall_cell\u001b[0m\u001b[1;33m(\u001b[0m\u001b[1;33m)\u001b[0m\u001b[1;33m\u001b[0m\u001b[0m\n\u001b[0m\u001b[0;32m    395\u001b[0m     \u001b[0mnest\u001b[0m\u001b[1;33m.\u001b[0m\u001b[0massert_same_structure\u001b[0m\u001b[1;33m(\u001b[0m\u001b[0mstate\u001b[0m\u001b[1;33m,\u001b[0m \u001b[0mnew_state\u001b[0m\u001b[1;33m)\u001b[0m\u001b[1;33m\u001b[0m\u001b[0m\n\u001b[0;32m    396\u001b[0m     \u001b[0mnew_state\u001b[0m \u001b[1;33m=\u001b[0m \u001b[0mnest\u001b[0m\u001b[1;33m.\u001b[0m\u001b[0mflatten\u001b[0m\u001b[1;33m(\u001b[0m\u001b[0mnew_state\u001b[0m\u001b[1;33m)\u001b[0m\u001b[1;33m\u001b[0m\u001b[0m\n",
      "\u001b[1;32m/usr/local/lib/python2.7/dist-packages/tensorflow/python/ops/rnn.pyc\u001b[0m in \u001b[0;36m<lambda>\u001b[1;34m()\u001b[0m\n\u001b[0;32m    966\u001b[0m \u001b[1;33m\u001b[0m\u001b[0m\n\u001b[0;32m    967\u001b[0m     \u001b[0minput_t\u001b[0m \u001b[1;33m=\u001b[0m \u001b[0mnest\u001b[0m\u001b[1;33m.\u001b[0m\u001b[0mpack_sequence_as\u001b[0m\u001b[1;33m(\u001b[0m\u001b[0mstructure\u001b[0m\u001b[1;33m=\u001b[0m\u001b[0minputs\u001b[0m\u001b[1;33m,\u001b[0m \u001b[0mflat_sequence\u001b[0m\u001b[1;33m=\u001b[0m\u001b[0minput_t\u001b[0m\u001b[1;33m)\u001b[0m\u001b[1;33m\u001b[0m\u001b[0m\n\u001b[1;32m--> 968\u001b[1;33m     \u001b[0mcall_cell\u001b[0m \u001b[1;33m=\u001b[0m \u001b[1;32mlambda\u001b[0m\u001b[1;33m:\u001b[0m \u001b[0mcell\u001b[0m\u001b[1;33m(\u001b[0m\u001b[0minput_t\u001b[0m\u001b[1;33m,\u001b[0m \u001b[0mstate\u001b[0m\u001b[1;33m)\u001b[0m\u001b[1;33m\u001b[0m\u001b[0m\n\u001b[0m\u001b[0;32m    969\u001b[0m \u001b[1;33m\u001b[0m\u001b[0m\n\u001b[0;32m    970\u001b[0m     \u001b[1;32mif\u001b[0m \u001b[0msequence_length\u001b[0m \u001b[1;32mis\u001b[0m \u001b[1;32mnot\u001b[0m \u001b[0mNone\u001b[0m\u001b[1;33m:\u001b[0m\u001b[1;33m\u001b[0m\u001b[0m\n",
      "\u001b[1;32m/usr/local/lib/python2.7/dist-packages/tensorflow/python/ops/rnn_cell.pyc\u001b[0m in \u001b[0;36m__call__\u001b[1;34m(self, inputs, state, scope)\u001b[0m\n\u001b[0;32m    487\u001b[0m       concat_w = _get_concat_variable(\n\u001b[0;32m    488\u001b[0m           \u001b[1;34m\"W\"\u001b[0m\u001b[1;33m,\u001b[0m \u001b[1;33m[\u001b[0m\u001b[0minput_size\u001b[0m\u001b[1;33m.\u001b[0m\u001b[0mvalue\u001b[0m \u001b[1;33m+\u001b[0m \u001b[0mnum_proj\u001b[0m\u001b[1;33m,\u001b[0m \u001b[1;36m4\u001b[0m \u001b[1;33m*\u001b[0m \u001b[0mself\u001b[0m\u001b[1;33m.\u001b[0m\u001b[0m_num_units\u001b[0m\u001b[1;33m]\u001b[0m\u001b[1;33m,\u001b[0m\u001b[1;33m\u001b[0m\u001b[0m\n\u001b[1;32m--> 489\u001b[1;33m           dtype, self._num_unit_shards)\n\u001b[0m\u001b[0;32m    490\u001b[0m \u001b[1;33m\u001b[0m\u001b[0m\n\u001b[0;32m    491\u001b[0m       b = vs.get_variable(\n",
      "\u001b[1;32m/usr/local/lib/python2.7/dist-packages/tensorflow/python/ops/rnn_cell.pyc\u001b[0m in \u001b[0;36m_get_concat_variable\u001b[1;34m(name, shape, dtype, num_shards)\u001b[0m\n\u001b[0;32m    321\u001b[0m \u001b[1;32mdef\u001b[0m \u001b[0m_get_concat_variable\u001b[0m\u001b[1;33m(\u001b[0m\u001b[0mname\u001b[0m\u001b[1;33m,\u001b[0m \u001b[0mshape\u001b[0m\u001b[1;33m,\u001b[0m \u001b[0mdtype\u001b[0m\u001b[1;33m,\u001b[0m \u001b[0mnum_shards\u001b[0m\u001b[1;33m)\u001b[0m\u001b[1;33m:\u001b[0m\u001b[1;33m\u001b[0m\u001b[0m\n\u001b[0;32m    322\u001b[0m   \u001b[1;34m\"\"\"Get a sharded variable concatenated into one tensor.\"\"\"\u001b[0m\u001b[1;33m\u001b[0m\u001b[0m\n\u001b[1;32m--> 323\u001b[1;33m   \u001b[0msharded_variable\u001b[0m \u001b[1;33m=\u001b[0m \u001b[0m_get_sharded_variable\u001b[0m\u001b[1;33m(\u001b[0m\u001b[0mname\u001b[0m\u001b[1;33m,\u001b[0m \u001b[0mshape\u001b[0m\u001b[1;33m,\u001b[0m \u001b[0mdtype\u001b[0m\u001b[1;33m,\u001b[0m \u001b[0mnum_shards\u001b[0m\u001b[1;33m)\u001b[0m\u001b[1;33m\u001b[0m\u001b[0m\n\u001b[0m\u001b[0;32m    324\u001b[0m   \u001b[1;32mif\u001b[0m \u001b[0mlen\u001b[0m\u001b[1;33m(\u001b[0m\u001b[0msharded_variable\u001b[0m\u001b[1;33m)\u001b[0m \u001b[1;33m==\u001b[0m \u001b[1;36m1\u001b[0m\u001b[1;33m:\u001b[0m\u001b[1;33m\u001b[0m\u001b[0m\n\u001b[0;32m    325\u001b[0m     \u001b[1;32mreturn\u001b[0m \u001b[0msharded_variable\u001b[0m\u001b[1;33m[\u001b[0m\u001b[1;36m0\u001b[0m\u001b[1;33m]\u001b[0m\u001b[1;33m\u001b[0m\u001b[0m\n",
      "\u001b[1;32m/usr/local/lib/python2.7/dist-packages/tensorflow/python/ops/rnn_cell.pyc\u001b[0m in \u001b[0;36m_get_sharded_variable\u001b[1;34m(name, shape, dtype, num_shards)\u001b[0m\n\u001b[0;32m    351\u001b[0m       \u001b[0mcurrent_size\u001b[0m \u001b[1;33m+=\u001b[0m \u001b[1;36m1\u001b[0m\u001b[1;33m\u001b[0m\u001b[0m\n\u001b[0;32m    352\u001b[0m     shards.append(vs.get_variable(name + \"_%d\" % i, [current_size] + shape[1:],\n\u001b[1;32m--> 353\u001b[1;33m                                   dtype=dtype))\n\u001b[0m\u001b[0;32m    354\u001b[0m   \u001b[1;32mreturn\u001b[0m \u001b[0mshards\u001b[0m\u001b[1;33m\u001b[0m\u001b[0m\n\u001b[0;32m    355\u001b[0m \u001b[1;33m\u001b[0m\u001b[0m\n",
      "\u001b[1;32m/usr/local/lib/python2.7/dist-packages/tensorflow/python/ops/variable_scope.pyc\u001b[0m in \u001b[0;36mget_variable\u001b[1;34m(name, shape, dtype, initializer, regularizer, trainable, collections, caching_device, partitioner, validate_shape, custom_getter)\u001b[0m\n\u001b[0;32m    828\u001b[0m       \u001b[0mcollections\u001b[0m\u001b[1;33m=\u001b[0m\u001b[0mcollections\u001b[0m\u001b[1;33m,\u001b[0m \u001b[0mcaching_device\u001b[0m\u001b[1;33m=\u001b[0m\u001b[0mcaching_device\u001b[0m\u001b[1;33m,\u001b[0m\u001b[1;33m\u001b[0m\u001b[0m\n\u001b[0;32m    829\u001b[0m       \u001b[0mpartitioner\u001b[0m\u001b[1;33m=\u001b[0m\u001b[0mpartitioner\u001b[0m\u001b[1;33m,\u001b[0m \u001b[0mvalidate_shape\u001b[0m\u001b[1;33m=\u001b[0m\u001b[0mvalidate_shape\u001b[0m\u001b[1;33m,\u001b[0m\u001b[1;33m\u001b[0m\u001b[0m\n\u001b[1;32m--> 830\u001b[1;33m       custom_getter=custom_getter)\n\u001b[0m\u001b[0;32m    831\u001b[0m \u001b[1;33m\u001b[0m\u001b[0m\n\u001b[0;32m    832\u001b[0m \u001b[1;33m\u001b[0m\u001b[0m\n",
      "\u001b[1;32m/usr/local/lib/python2.7/dist-packages/tensorflow/python/ops/variable_scope.pyc\u001b[0m in \u001b[0;36mget_variable\u001b[1;34m(self, var_store, name, shape, dtype, initializer, regularizer, trainable, collections, caching_device, partitioner, validate_shape, custom_getter)\u001b[0m\n\u001b[0;32m    671\u001b[0m           \u001b[0mcollections\u001b[0m\u001b[1;33m=\u001b[0m\u001b[0mcollections\u001b[0m\u001b[1;33m,\u001b[0m \u001b[0mcaching_device\u001b[0m\u001b[1;33m=\u001b[0m\u001b[0mcaching_device\u001b[0m\u001b[1;33m,\u001b[0m\u001b[1;33m\u001b[0m\u001b[0m\n\u001b[0;32m    672\u001b[0m           \u001b[0mpartitioner\u001b[0m\u001b[1;33m=\u001b[0m\u001b[0mpartitioner\u001b[0m\u001b[1;33m,\u001b[0m \u001b[0mvalidate_shape\u001b[0m\u001b[1;33m=\u001b[0m\u001b[0mvalidate_shape\u001b[0m\u001b[1;33m,\u001b[0m\u001b[1;33m\u001b[0m\u001b[0m\n\u001b[1;32m--> 673\u001b[1;33m           custom_getter=custom_getter)\n\u001b[0m\u001b[0;32m    674\u001b[0m \u001b[1;33m\u001b[0m\u001b[0m\n\u001b[0;32m    675\u001b[0m   def _get_partitioned_variable(\n",
      "\u001b[1;32m/usr/local/lib/python2.7/dist-packages/tensorflow/python/ops/variable_scope.pyc\u001b[0m in \u001b[0;36mget_variable\u001b[1;34m(self, name, shape, dtype, initializer, regularizer, reuse, trainable, collections, caching_device, partitioner, validate_shape, custom_getter)\u001b[0m\n\u001b[0;32m    215\u001b[0m           \u001b[0mreuse\u001b[0m\u001b[1;33m=\u001b[0m\u001b[0mreuse\u001b[0m\u001b[1;33m,\u001b[0m \u001b[0mtrainable\u001b[0m\u001b[1;33m=\u001b[0m\u001b[0mtrainable\u001b[0m\u001b[1;33m,\u001b[0m \u001b[0mcollections\u001b[0m\u001b[1;33m=\u001b[0m\u001b[0mcollections\u001b[0m\u001b[1;33m,\u001b[0m\u001b[1;33m\u001b[0m\u001b[0m\n\u001b[0;32m    216\u001b[0m           \u001b[0mcaching_device\u001b[0m\u001b[1;33m=\u001b[0m\u001b[0mcaching_device\u001b[0m\u001b[1;33m,\u001b[0m \u001b[0mpartitioner\u001b[0m\u001b[1;33m=\u001b[0m\u001b[0mpartitioner\u001b[0m\u001b[1;33m,\u001b[0m\u001b[1;33m\u001b[0m\u001b[0m\n\u001b[1;32m--> 217\u001b[1;33m           validate_shape=validate_shape)\n\u001b[0m\u001b[0;32m    218\u001b[0m \u001b[1;33m\u001b[0m\u001b[0m\n\u001b[0;32m    219\u001b[0m   def _get_partitioned_variable(\n",
      "\u001b[1;32m/usr/local/lib/python2.7/dist-packages/tensorflow/python/ops/variable_scope.pyc\u001b[0m in \u001b[0;36m_true_getter\u001b[1;34m(name, shape, dtype, initializer, regularizer, reuse, trainable, collections, caching_device, partitioner, validate_shape)\u001b[0m\n\u001b[0;32m    200\u001b[0m           \u001b[0minitializer\u001b[0m\u001b[1;33m=\u001b[0m\u001b[0minitializer\u001b[0m\u001b[1;33m,\u001b[0m \u001b[0mregularizer\u001b[0m\u001b[1;33m=\u001b[0m\u001b[0mregularizer\u001b[0m\u001b[1;33m,\u001b[0m \u001b[0mreuse\u001b[0m\u001b[1;33m=\u001b[0m\u001b[0mreuse\u001b[0m\u001b[1;33m,\u001b[0m\u001b[1;33m\u001b[0m\u001b[0m\n\u001b[0;32m    201\u001b[0m           \u001b[0mtrainable\u001b[0m\u001b[1;33m=\u001b[0m\u001b[0mtrainable\u001b[0m\u001b[1;33m,\u001b[0m \u001b[0mcollections\u001b[0m\u001b[1;33m=\u001b[0m\u001b[0mcollections\u001b[0m\u001b[1;33m,\u001b[0m\u001b[1;33m\u001b[0m\u001b[0m\n\u001b[1;32m--> 202\u001b[1;33m           caching_device=caching_device, validate_shape=validate_shape)\n\u001b[0m\u001b[0;32m    203\u001b[0m \u001b[1;33m\u001b[0m\u001b[0m\n\u001b[0;32m    204\u001b[0m     \u001b[1;32mif\u001b[0m \u001b[0mcustom_getter\u001b[0m \u001b[1;32mis\u001b[0m \u001b[1;32mnot\u001b[0m \u001b[0mNone\u001b[0m\u001b[1;33m:\u001b[0m\u001b[1;33m\u001b[0m\u001b[0m\n",
      "\u001b[1;32m/usr/local/lib/python2.7/dist-packages/tensorflow/python/ops/variable_scope.pyc\u001b[0m in \u001b[0;36m_get_single_variable\u001b[1;34m(self, name, shape, dtype, initializer, regularizer, reuse, trainable, collections, caching_device, validate_shape)\u001b[0m\n\u001b[0;32m    492\u001b[0m                          \u001b[1;34m\" Did you mean to set reuse=True in VarScope? \"\u001b[0m\u001b[1;33m\u001b[0m\u001b[0m\n\u001b[0;32m    493\u001b[0m                          \"Originally defined at:\\n\\n%s\" % (\n\u001b[1;32m--> 494\u001b[1;33m                              name, \"\".join(traceback.format_list(tb))))\n\u001b[0m\u001b[0;32m    495\u001b[0m       \u001b[0mfound_var\u001b[0m \u001b[1;33m=\u001b[0m \u001b[0mself\u001b[0m\u001b[1;33m.\u001b[0m\u001b[0m_vars\u001b[0m\u001b[1;33m[\u001b[0m\u001b[0mname\u001b[0m\u001b[1;33m]\u001b[0m\u001b[1;33m\u001b[0m\u001b[0m\n\u001b[0;32m    496\u001b[0m       \u001b[1;32mif\u001b[0m \u001b[1;32mnot\u001b[0m \u001b[0mshape\u001b[0m\u001b[1;33m.\u001b[0m\u001b[0mis_compatible_with\u001b[0m\u001b[1;33m(\u001b[0m\u001b[0mfound_var\u001b[0m\u001b[1;33m.\u001b[0m\u001b[0mget_shape\u001b[0m\u001b[1;33m(\u001b[0m\u001b[1;33m)\u001b[0m\u001b[1;33m)\u001b[0m\u001b[1;33m:\u001b[0m\u001b[1;33m\u001b[0m\u001b[0m\n",
      "\u001b[1;31mValueError\u001b[0m: Variable RNN/LSTMCell/W_0 already exists, disallowed. Did you mean to set reuse=True in VarScope? Originally defined at:\n\n  File \"<ipython-input-5-992b5a9b3ea9>\", line 5, in <module>\n    inputs = X\n  File \"/usr/local/lib/python2.7/dist-packages/IPython/core/interactiveshell.py\", line 3035, in run_code\n    exec(code_obj, self.user_global_ns, self.user_ns)\n  File \"/usr/local/lib/python2.7/dist-packages/IPython/core/interactiveshell.py\", line 2975, in run_ast_nodes\n    if self.run_code(code, result):\n"
     ]
    }
   ],
   "source": [
    "outputs, last_states = tf.nn.dynamic_rnn(\n",
    "    cell = cell, #rnn의 종류 선언, LSTM, GRU등 사용가능\n",
    "    dtype = tf.float64,\n",
    "    sequence_length = X_lengths, #각 데이터의 실제 sequence 길이\n",
    "    inputs = X #입력\n",
    ")"
   ]
  },
  {
   "cell_type": "markdown",
   "metadata": {},
   "source": [
    "##실행"
   ]
  },
  {
   "cell_type": "code",
   "execution_count": 6,
   "metadata": {
    "collapsed": true
   },
   "outputs": [],
   "source": [
    "result = tf.contrib.learn.run_n(\n",
    "    {\"outputs\":outputs, \"last_states\":last_states},\n",
    "    n = 1,\n",
    "    feed_dict = None\n",
    ")"
   ]
  },
  {
   "cell_type": "code",
   "execution_count": 7,
   "metadata": {
    "collapsed": false
   },
   "outputs": [
    {
     "data": {
      "text/plain": [
       "array([[  1.50125663e-01,  -1.38507937e-01,   2.45661785e-02,\n",
       "          6.15731664e-02,   4.16190131e-02,   5.23910113e-02,\n",
       "         -1.40644411e-01,  -4.89984251e-02,   2.94760318e-02,\n",
       "         -5.66800435e-02,   3.04953223e-03,   1.02072022e-01,\n",
       "         -1.52021753e-01,   4.33515918e-02,  -4.60365091e-02,\n",
       "          5.47319140e-02,  -6.26279926e-02,  -7.84360644e-02,\n",
       "         -7.14662743e-02,   1.26210963e-03,   2.76195362e-02,\n",
       "         -1.51682606e-02,   7.83220742e-02,  -8.73126570e-02,\n",
       "          7.17812310e-02,   4.43966638e-02,   3.46233987e-02,\n",
       "         -4.43758579e-02,   1.01505966e-02,   2.17939880e-01,\n",
       "          3.16693609e-02,   3.31832255e-03,  -6.37972933e-02,\n",
       "         -4.34245369e-02,   3.16714738e-02,  -7.17169465e-02,\n",
       "          8.55926317e-02,   1.52841941e-02,  -1.18079272e-03,\n",
       "          1.60428913e-01,   4.61737859e-02,  -1.71082346e-01,\n",
       "          2.17999835e-01,   4.56208538e-02,  -1.41804721e-01,\n",
       "         -2.70195036e-02,   8.38726831e-02,   1.82131096e-02,\n",
       "          1.02172277e-02,  -1.80628037e-01,   8.13169781e-04,\n",
       "          1.71309819e-01,   9.90695990e-02,  -1.47277414e-02,\n",
       "         -7.92240911e-03,   9.86106643e-03,  -1.82872525e-02,\n",
       "          1.04718516e-01,  -6.05930042e-02,  -2.48393427e-02,\n",
       "         -1.72983388e-02,  -8.08599057e-02,  -5.68185316e-03,\n",
       "          2.10921426e-02],\n",
       "       [  8.10735306e-02,   3.96627042e-02,   1.33571520e-01,\n",
       "          1.45169699e-01,   1.12896395e-01,  -1.61188386e-01,\n",
       "         -1.12065794e-01,  -1.43823691e-01,   2.17907334e-01,\n",
       "         -1.11694877e-01,  -1.51017085e-02,   1.43843393e-01,\n",
       "         -1.47868581e-01,  -1.18221215e-01,  -2.14258733e-02,\n",
       "         -1.83818834e-01,  -2.18890831e-01,   2.84560346e-02,\n",
       "         -2.71877148e-01,   1.46664735e-03,  -1.83373749e-01,\n",
       "          1.31998616e-01,   3.40321132e-02,  -2.71021331e-02,\n",
       "          1.19329951e-01,   2.19875535e-02,  -4.57928783e-02,\n",
       "          5.47933532e-02,  -4.50974680e-02,   6.66810099e-03,\n",
       "         -4.57146698e-02,  -2.70512899e-02,  -4.97900297e-02,\n",
       "          3.43383817e-02,   1.49719769e-02,  -1.24915436e-02,\n",
       "          6.04420988e-02,  -3.33321545e-02,   6.66736793e-02,\n",
       "          1.18739890e-01,   4.78535633e-02,  -3.96935523e-02,\n",
       "          1.82682146e-02,   1.31502884e-01,  -1.89940759e-01,\n",
       "         -8.67628363e-02,  -1.49334180e-01,   1.06833592e-01,\n",
       "         -4.70755719e-02,  -4.91390165e-02,   1.00687153e-01,\n",
       "          1.29067686e-01,   2.30134545e-01,  -3.99480826e-02,\n",
       "         -7.12896104e-02,   5.84345940e-02,   5.81421409e-02,\n",
       "          8.23803134e-02,  -1.23134417e-01,  -4.51112326e-02,\n",
       "          5.22235237e-02,  -4.87658109e-02,  -1.55398851e-01,\n",
       "          1.54852739e-01],\n",
       "       [ -6.00338506e-02,   3.97795374e-03,   6.19341375e-02,\n",
       "         -6.69326651e-02,   7.32374201e-02,  -1.08876231e-01,\n",
       "         -1.84249153e-02,  -4.74142249e-03,   9.38594637e-02,\n",
       "         -4.49360121e-02,  -6.01381596e-02,  -2.52874901e-02,\n",
       "         -9.14804385e-02,  -1.87493471e-02,   1.15644767e-01,\n",
       "         -1.35167706e-01,   1.98506841e-02,   1.10652482e-01,\n",
       "         -8.98741656e-02,   1.57425868e-02,   1.46831397e-02,\n",
       "          1.60833309e-01,  -4.23600883e-02,   1.46548051e-01,\n",
       "          1.73342818e-02,  -1.98622608e-02,  -9.05185385e-02,\n",
       "          1.10525074e-01,   1.85265446e-02,  -7.64549489e-02,\n",
       "         -4.49279751e-02,  -5.58961788e-02,  -1.79533655e-02,\n",
       "          8.79801356e-02,  -6.76974858e-02,   1.57086679e-02,\n",
       "          7.73351037e-02,  -1.25478801e-01,   2.16635851e-02,\n",
       "         -2.72571684e-02,  -1.06813605e-01,  -4.61470227e-02,\n",
       "         -2.50692683e-02,   2.25643974e-02,  -2.51479801e-02,\n",
       "         -3.01750965e-02,  -1.72246132e-02,   9.34769865e-02,\n",
       "         -1.74312656e-02,  -8.09176246e-03,  -1.57581438e-02,\n",
       "          2.32150926e-02,  -1.08759482e-02,   3.20474394e-02,\n",
       "          3.17816091e-03,   6.98759410e-02,   4.17479834e-02,\n",
       "          4.49387898e-02,  -3.32554614e-02,  -2.67555232e-02,\n",
       "         -5.99048891e-03,  -5.29392078e-02,  -6.48545449e-02,\n",
       "          5.17440620e-02],\n",
       "       [  9.50552588e-03,   3.50285281e-02,  -1.57168989e-02,\n",
       "         -3.94291581e-02,   1.81415163e-02,   3.95213957e-03,\n",
       "         -4.30237194e-02,   8.67409672e-02,  -2.31077484e-02,\n",
       "          2.78698158e-02,  -7.28845449e-02,  -6.88018757e-02,\n",
       "          1.47236854e-02,   1.92537403e-02,   5.43773113e-02,\n",
       "         -1.55636269e-01,   4.95766810e-02,   3.25671887e-02,\n",
       "         -9.15686901e-02,   2.69478555e-02,   3.94290181e-02,\n",
       "          7.79908974e-02,  -7.02160384e-03,   1.72630094e-01,\n",
       "          1.16994131e-02,   1.62364906e-02,   7.00701749e-02,\n",
       "         -3.94530521e-02,   4.75323215e-02,  -1.19310126e-02,\n",
       "          2.84145361e-03,   1.01448317e-02,   8.69674309e-02,\n",
       "          1.11588298e-01,  -3.72878973e-02,   6.65192154e-02,\n",
       "          1.75177365e-01,  -5.16216985e-02,  -2.44194977e-02,\n",
       "         -3.43531729e-02,  -1.46299289e-01,  -7.99751532e-02,\n",
       "         -5.12637447e-03,   5.29403299e-02,   2.88444076e-02,\n",
       "          6.17675157e-02,   8.12411729e-02,  -4.43927904e-02,\n",
       "         -8.65468207e-02,  -9.35359143e-02,   6.34106842e-03,\n",
       "          2.19929282e-02,  -3.22816816e-02,  -1.17661298e-02,\n",
       "          1.08876201e-02,   9.89598838e-03,  -3.71177922e-02,\n",
       "          7.18575313e-02,   4.05014627e-02,  -8.27902683e-04,\n",
       "         -1.82396919e-02,  -6.96721743e-02,  -6.49087676e-03,\n",
       "          7.70808730e-03],\n",
       "       [  1.00654872e-01,  -9.01820268e-02,   1.40105018e-02,\n",
       "          4.09078668e-02,  -4.83314664e-02,   1.65973342e-01,\n",
       "          4.00482440e-02,   9.17858930e-02,   7.39980306e-04,\n",
       "          4.50462512e-02,  -6.07700333e-02,  -3.76237835e-02,\n",
       "          8.41302524e-02,  -2.90282046e-02,  -4.14472532e-02,\n",
       "         -4.45527834e-02,  -6.79403063e-03,  -7.02927284e-02,\n",
       "         -1.24753599e-02,   4.03613684e-02,  -1.70955531e-02,\n",
       "         -2.90214351e-02,   8.81622278e-03,   2.84312654e-02,\n",
       "          5.85277894e-02,   2.94588407e-02,   1.90887103e-01,\n",
       "         -3.10093439e-02,  -4.32639733e-02,   1.90381930e-01,\n",
       "          2.79253120e-02,  -2.94439933e-02,   9.74789762e-02,\n",
       "         -4.12682717e-02,  -9.70051107e-02,  -7.11751383e-02,\n",
       "          1.32252366e-01,   4.00365088e-02,  -2.81889750e-02,\n",
       "          1.20181466e-01,   4.14719069e-02,  -1.21639021e-01,\n",
       "          1.25472717e-01,  -5.98580526e-02,  -9.45178864e-02,\n",
       "         -9.50905209e-03,   1.23826212e-01,  -8.64268392e-03,\n",
       "         -1.68943966e-01,  -9.44269418e-02,  -6.05384608e-02,\n",
       "          7.11037182e-02,   5.03813923e-02,   1.19150465e-02,\n",
       "         -8.52415606e-02,  -1.36492251e-02,  -4.40929784e-02,\n",
       "         -1.00655536e-02,  -1.21660757e-02,   4.02840114e-02,\n",
       "         -5.66685807e-02,  -1.58611512e-01,   5.53278033e-02,\n",
       "         -2.07075108e-03],\n",
       "       [  2.24718377e-02,   2.90578306e-02,   1.40929839e-01,\n",
       "          2.28385417e-02,  -2.82136618e-02,  -8.04341477e-02,\n",
       "         -5.67800714e-02,  -5.82338147e-02,   1.39914574e-01,\n",
       "         -4.16410408e-02,  -5.43837935e-02,   3.38944779e-02,\n",
       "         -1.27418286e-02,  -9.71549444e-02,  -5.43945602e-02,\n",
       "         -1.50173323e-01,  -4.43710412e-02,   4.00173493e-02,\n",
       "         -1.71788203e-01,   2.08904542e-02,  -3.78594669e-02,\n",
       "          5.92854753e-02,   5.27824012e-03,   2.51591751e-03,\n",
       "          6.93689067e-02,  -2.35459009e-02,   6.30269131e-02,\n",
       "          1.06288068e-01,  -1.81408322e-02,  -9.01993401e-04,\n",
       "         -5.31848658e-02,   7.28469825e-02,   1.05398012e-01,\n",
       "         -7.60725870e-02,  -1.39192252e-01,  -3.46595020e-02,\n",
       "          9.28308690e-02,   1.39834752e-02,   1.51905433e-02,\n",
       "          8.25797045e-02,   1.50724431e-01,   3.76518392e-02,\n",
       "         -4.72857532e-02,   6.47047259e-02,  -7.19602645e-02,\n",
       "         -1.02032090e-01,  -7.78981896e-02,   5.73979081e-02,\n",
       "         -7.82510792e-02,  -4.31733166e-02,   1.63515087e-02,\n",
       "          3.31572322e-02,   5.05368800e-02,   1.00069962e-02,\n",
       "         -1.24280706e-01,   3.92335741e-02,   1.10244195e-01,\n",
       "         -4.06975236e-02,  -3.59826226e-02,  -6.61557429e-02,\n",
       "         -3.10804371e-02,  -1.92303187e-02,  -8.74071055e-02,\n",
       "          1.88603235e-02],\n",
       "       [ -9.67551623e-02,   4.03376190e-04,   6.23036582e-02,\n",
       "         -1.57994485e-01,  -8.14659738e-02,  -4.65692471e-02,\n",
       "          1.03698634e-01,   1.69712494e-02,   2.78134591e-02,\n",
       "          1.23433141e-02,  -1.12641704e-01,  -1.14506446e-01,\n",
       "          6.31207774e-02,  -2.14689382e-02,   2.59633970e-02,\n",
       "         -2.06526361e-01,   1.65247434e-01,   1.61507450e-01,\n",
       "          7.08098455e-02,   8.45487940e-02,   6.08971415e-02,\n",
       "          1.63740979e-01,  -1.32234897e-01,   1.75901336e-01,\n",
       "          3.96907255e-05,  -6.14562646e-02,   1.55533347e-01,\n",
       "          1.02536738e-01,  -6.90101675e-03,  -7.33439253e-02,\n",
       "          2.93097534e-02,   1.48843525e-03,   1.20144216e-01,\n",
       "         -1.06752038e-01,  -1.28569987e-01,  -3.11089637e-02,\n",
       "          1.46488876e-01,  -7.65491509e-02,   7.87172800e-02,\n",
       "          6.09509603e-02,   2.65770636e-02,  -6.48696842e-03,\n",
       "         -6.54167099e-02,  -3.96150506e-02,   4.08062683e-02,\n",
       "         -3.39967386e-02,  -5.04162513e-02,   1.51677212e-01,\n",
       "         -1.98575937e-01,  -2.96948288e-02,  -1.12540245e-02,\n",
       "         -1.13024231e-01,  -5.80479713e-02,   6.79896277e-02,\n",
       "         -1.29062029e-01,   1.29620100e-01,   1.48310366e-01,\n",
       "         -1.14267497e-01,   4.50149940e-02,   2.90770091e-02,\n",
       "          4.14977916e-02,  -2.87866571e-02,  -3.49782861e-02,\n",
       "         -2.60324193e-02],\n",
       "       [ -2.45610149e-01,  -5.06699284e-02,   1.04864743e-02,\n",
       "         -2.46824334e-01,  -1.00831548e-01,  -1.56371212e-01,\n",
       "          2.87067455e-02,  -1.03532814e-01,   6.20557346e-02,\n",
       "         -8.25757281e-02,  -8.08662718e-02,  -5.30441902e-02,\n",
       "         -6.92801131e-02,  -1.35887176e-01,  -4.49001539e-02,\n",
       "         -7.29033719e-02,   1.21525828e-01,   1.72747375e-01,\n",
       "          7.72632057e-02,   6.77029983e-02,   4.23291105e-02,\n",
       "          1.19277259e-01,  -1.48224907e-01,   1.10834744e-01,\n",
       "         -1.36651234e-02,  -3.14040358e-03,   4.38975817e-02,\n",
       "          4.96840953e-02,  -4.64715778e-02,  -4.76571980e-02,\n",
       "          1.04721105e-01,  -1.30880391e-02,   7.14912258e-03,\n",
       "         -1.29121967e-01,  -8.91805995e-02,  -1.28201234e-01,\n",
       "          5.96075847e-02,  -1.32933455e-01,   6.26752630e-02,\n",
       "         -7.20952214e-03,  -2.98634266e-02,   1.64326302e-01,\n",
       "         -1.03973182e-01,  -6.98003154e-02,   1.29243684e-01,\n",
       "         -3.60863568e-02,  -1.82724295e-02,   2.15371320e-01,\n",
       "         -1.35410117e-01,  -2.54602160e-02,  -1.67770948e-02,\n",
       "         -1.15375313e-01,   4.26966216e-02,   9.78748255e-02,\n",
       "         -4.78485827e-02,   2.04452037e-01,   2.02324816e-01,\n",
       "         -2.04137211e-01,   1.05804194e-01,   9.78796411e-02,\n",
       "         -2.54880507e-02,  -3.85651251e-02,  -8.51591435e-02,\n",
       "         -5.69427049e-02],\n",
       "       [ -3.96684307e-01,  -1.40533824e-01,  -7.09990789e-02,\n",
       "         -3.37041599e-01,  -5.65970512e-02,  -1.21250035e-01,\n",
       "          4.77825216e-02,  -1.22437268e-01,   6.27400016e-03,\n",
       "         -1.58809698e-01,  -4.81837492e-02,  -1.47086564e-01,\n",
       "         -1.50628004e-01,  -8.79324643e-02,  -1.02082342e-01,\n",
       "          3.68498534e-02,   1.49185829e-01,   2.16622633e-01,\n",
       "          1.48743497e-01,   6.12008382e-02,   3.48208190e-02,\n",
       "          9.61903547e-02,  -1.45087621e-01,   1.29017395e-01,\n",
       "         -1.47728279e-01,   4.55068097e-02,  -4.71724710e-02,\n",
       "         -4.76660146e-02,   8.12596654e-03,  -6.28838931e-02,\n",
       "          1.95150723e-01,  -4.23479191e-02,  -9.77674918e-02,\n",
       "         -1.22993886e-01,   5.90569527e-02,  -6.64827893e-02,\n",
       "         -4.64957560e-02,  -1.87040972e-01,   6.40076651e-02,\n",
       "         -9.23572003e-02,  -1.42621435e-01,   2.46422760e-01,\n",
       "         -5.58576910e-02,  -9.64641841e-02,   2.22855513e-01,\n",
       "          8.94239359e-02,   5.31978709e-02,   1.79209962e-01,\n",
       "         -8.40309811e-02,  -1.00455266e-01,  -2.99960245e-02,\n",
       "         -2.53478861e-01,  -2.60985023e-02,   2.51393322e-03,\n",
       "          3.89329784e-02,   2.18580665e-01,   2.01920719e-01,\n",
       "         -1.52745160e-01,   1.05124921e-01,   1.55452837e-01,\n",
       "         -3.48134691e-02,  -1.21553614e-01,  -2.58130860e-02,\n",
       "         -4.60040995e-02],\n",
       "       [ -2.78991416e-01,  -1.34711771e-01,  -4.34376166e-02,\n",
       "         -2.80384735e-01,  -2.73979295e-02,   4.46463494e-02,\n",
       "          1.57816184e-01,   3.24506013e-02,  -1.98905298e-02,\n",
       "         -5.75982562e-02,  -3.71553750e-02,  -2.30251956e-01,\n",
       "         -1.30409842e-01,  -9.79594251e-02,   2.46357567e-02,\n",
       "          1.16416963e-01,   2.27496472e-01,   1.50505403e-01,\n",
       "          3.05469360e-01,   7.00347153e-02,  -2.86029031e-02,\n",
       "          1.57688306e-01,  -2.47441310e-01,   1.45237425e-01,\n",
       "         -7.95106838e-02,  -7.45858383e-03,  -1.14828908e-01,\n",
       "          1.10805921e-02,  -1.16672002e-01,  -8.04141077e-02,\n",
       "          2.33818028e-01,  -1.83579917e-01,  -1.17971854e-01,\n",
       "         -3.40486418e-01,  -3.21540292e-02,  -1.22251605e-01,\n",
       "         -5.51598375e-02,  -1.77268579e-01,   7.44598761e-02,\n",
       "         -6.52464957e-03,  -6.21383757e-02,   9.06444918e-02,\n",
       "          9.73846879e-02,  -1.74908858e-01,   4.53126563e-02,\n",
       "          1.78679633e-01,   7.31491741e-02,   3.26164277e-01,\n",
       "         -9.03226930e-02,   1.86613568e-02,  -1.60310991e-01,\n",
       "         -2.26577247e-01,  -1.86374370e-02,   7.65160462e-02,\n",
       "          3.01566280e-03,   1.38954987e-01,   1.45556147e-01,\n",
       "         -1.69587947e-01,   2.51253129e-02,   1.67578876e-01,\n",
       "          4.35767410e-02,  -2.52651560e-01,   7.04245191e-02,\n",
       "         -1.00063440e-02]])"
      ]
     },
     "execution_count": 7,
     "metadata": {},
     "output_type": "execute_result"
    }
   ],
   "source": [
    "result[0][\"outputs\"][0]"
   ]
  },
  {
   "cell_type": "code",
   "execution_count": null,
   "metadata": {
    "collapsed": true
   },
   "outputs": [],
   "source": []
  }
 ],
 "metadata": {
  "kernelspec": {
   "display_name": "Python 2",
   "language": "python",
   "name": "python2"
  },
  "language_info": {
   "codemirror_mode": {
    "name": "ipython",
    "version": 2
   },
   "file_extension": ".py",
   "mimetype": "text/x-python",
   "name": "python",
   "nbconvert_exporter": "python",
   "pygments_lexer": "ipython2",
   "version": "2.7.6"
  }
 },
 "nbformat": 4,
 "nbformat_minor": 0
}
